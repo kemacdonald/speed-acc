{
 "cells": [
  {
   "cell_type": "markdown",
   "metadata": {},
   "source": [
    "## Heirarchical Drift Diffusion Model Analysis\n",
    "\n",
    "In this analysis, we fit a version of the diffusion model that takes participant-level variability into account. As Wiecki et al. (2013) put it, \n",
    "\n",
    "\"Hierarchical Bayesian methods provide a remedy for this problem by allowing group and subject parameters to be estimated simultaneously at different hierarchical levels ([LeeWagenmakers13], [Kruschke10], [VandekerckhoveTuerlinckxLee11]). Subject parameters are assumed to be drawn from a group distribution, and to the degree that subject are similar to each other, the variance in the group distribution will be estimated to be small, which reciprocally has a greater influence on constraining parameter estimates of any individual. Even in this scenario, the method still allows the posterior for any given individual subject to differ substantially from that of the rest of the group given sufficient data to overwhelm the group prior. Thus the method capitalizes on statistical strength shared across the individuals, and can do so to different degrees even within the same sample and model, depending on the extent to which subjects are similar to each other in one parameter vs. another.\""
   ]
  },
  {
   "cell_type": "code",
   "execution_count": 1,
   "metadata": {},
   "outputs": [
    {
     "name": "stderr",
     "output_type": "stream",
     "text": [
      "/Users/kmacdonald/miniconda3/envs/hddm_fit/lib/python3.5/site-packages/IPython/parallel.py:13: ShimWarning: The `IPython.parallel` package has been deprecated since IPython 4.0. You should import from ipyparallel instead.\n",
      "  \"You should import from ipyparallel instead.\", ShimWarning)\n"
     ]
    }
   ],
   "source": [
    "import pandas as pd\n",
    "import matplotlib.pyplot as plt\n",
    "import numpy as np\n",
    "import hddm\n",
    "write_path = \"../../../data/3_final_merged_data/hddm_output/kids/\""
   ]
  },
  {
   "cell_type": "code",
   "execution_count": 2,
   "metadata": {},
   "outputs": [],
   "source": [
    "def model_to_df(model, param_list):\n",
    "    \"\"\"\n",
    "    Extract posterior samples for particular parameters \n",
    "    from an hddm model object and returns as pandas dataframe\n",
    "    \"\"\"\n",
    "    node_names = []\n",
    "    samples = []\n",
    "\n",
    "    for node in model.nodes_db.node[param_list]:\n",
    "        node_names.append(str(node))\n",
    "        samples.append(node.trace())    \n",
    "\n",
    "    return pd.DataFrame(dict(zip(node_names, samples)))"
   ]
  },
  {
   "cell_type": "code",
   "execution_count": 3,
   "metadata": {
    "scrolled": false
   },
   "outputs": [],
   "source": [
    "# Load and arrange data for analysis\n",
    "data = hddm.load_csv(\"../../../data/3_final_merged_data/ewma_output/speed_acc_kids_trio_ewma_results.csv\")\n",
    "data = data.dropna(subset = ['RT'])\n",
    "data['subj_idx'] = data['Sub.Num']\n",
    "data['rt'] = data['RT']\n",
    "data['response'] = data['correct']"
   ]
  },
  {
   "cell_type": "code",
   "execution_count": 8,
   "metadata": {},
   "outputs": [],
   "source": [
    "# Separate adult and kid data\n",
    "data_kids = data[data.age_code == \"child\"]\n",
    "data_adults = data[data.age_code == \"adult\"]\n",
    "# filter to remove extreme guesses\n",
    "data_kids = data_kids[(data_kids.guess == \"response\")]\n",
    "# remove object and bullseye data\n",
    "data_kids = data_kids[(data_kids['stimuli'] == \"Face\") | (data_kids['stimuli'] == \"ASL\") ]"
   ]
  },
  {
   "cell_type": "code",
   "execution_count": 5,
   "metadata": {},
   "outputs": [
    {
     "data": {
      "text/html": [
       "<div>\n",
       "<style scoped>\n",
       "    .dataframe tbody tr th:only-of-type {\n",
       "        vertical-align: middle;\n",
       "    }\n",
       "\n",
       "    .dataframe tbody tr th {\n",
       "        vertical-align: top;\n",
       "    }\n",
       "\n",
       "    .dataframe thead th {\n",
       "        text-align: right;\n",
       "    }\n",
       "</style>\n",
       "<table border=\"1\" class=\"dataframe\">\n",
       "  <thead>\n",
       "    <tr style=\"text-align: right;\">\n",
       "      <th></th>\n",
       "      <th>Sub.Num</th>\n",
       "      <th>Tr.Num</th>\n",
       "      <th>stimuli</th>\n",
       "      <th>age_code</th>\n",
       "      <th>correct</th>\n",
       "      <th>Months</th>\n",
       "      <th>clean_target_img</th>\n",
       "      <th>RT</th>\n",
       "      <th>condition</th>\n",
       "      <th>rt</th>\n",
       "      <th>guess</th>\n",
       "      <th>guess_num</th>\n",
       "      <th>ucl_bound</th>\n",
       "      <th>ewma_param</th>\n",
       "      <th>param_value</th>\n",
       "      <th>subj_idx</th>\n",
       "      <th>response</th>\n",
       "    </tr>\n",
       "  </thead>\n",
       "  <tbody>\n",
       "    <tr>\n",
       "      <th>77</th>\n",
       "      <td>30047</td>\n",
       "      <td>15</td>\n",
       "      <td>ASL</td>\n",
       "      <td>child</td>\n",
       "      <td>1</td>\n",
       "      <td>35</td>\n",
       "      <td>birdy</td>\n",
       "      <td>0.733</td>\n",
       "      <td>ASL</td>\n",
       "      <td>0.733</td>\n",
       "      <td>response</td>\n",
       "      <td>1</td>\n",
       "      <td>0.01</td>\n",
       "      <td>cs</td>\n",
       "      <td>0.57</td>\n",
       "      <td>30047</td>\n",
       "      <td>1</td>\n",
       "    </tr>\n",
       "    <tr>\n",
       "      <th>78</th>\n",
       "      <td>30010</td>\n",
       "      <td>13</td>\n",
       "      <td>ASL</td>\n",
       "      <td>child</td>\n",
       "      <td>1</td>\n",
       "      <td>44</td>\n",
       "      <td>teddy</td>\n",
       "      <td>0.767</td>\n",
       "      <td>ASL</td>\n",
       "      <td>0.767</td>\n",
       "      <td>response</td>\n",
       "      <td>1</td>\n",
       "      <td>0.01</td>\n",
       "      <td>cs</td>\n",
       "      <td>0.57</td>\n",
       "      <td>30010</td>\n",
       "      <td>1</td>\n",
       "    </tr>\n",
       "    <tr>\n",
       "      <th>82</th>\n",
       "      <td>30019</td>\n",
       "      <td>18</td>\n",
       "      <td>ASL</td>\n",
       "      <td>child</td>\n",
       "      <td>1</td>\n",
       "      <td>29</td>\n",
       "      <td>shoe</td>\n",
       "      <td>0.767</td>\n",
       "      <td>ASL</td>\n",
       "      <td>0.767</td>\n",
       "      <td>response</td>\n",
       "      <td>1</td>\n",
       "      <td>0.01</td>\n",
       "      <td>cs</td>\n",
       "      <td>0.57</td>\n",
       "      <td>30019</td>\n",
       "      <td>1</td>\n",
       "    </tr>\n",
       "    <tr>\n",
       "      <th>84</th>\n",
       "      <td>30019</td>\n",
       "      <td>24</td>\n",
       "      <td>ASL</td>\n",
       "      <td>child</td>\n",
       "      <td>1</td>\n",
       "      <td>29</td>\n",
       "      <td>car</td>\n",
       "      <td>0.767</td>\n",
       "      <td>ASL</td>\n",
       "      <td>0.767</td>\n",
       "      <td>response</td>\n",
       "      <td>1</td>\n",
       "      <td>0.01</td>\n",
       "      <td>cs</td>\n",
       "      <td>0.57</td>\n",
       "      <td>30019</td>\n",
       "      <td>1</td>\n",
       "    </tr>\n",
       "    <tr>\n",
       "      <th>85</th>\n",
       "      <td>30019</td>\n",
       "      <td>26</td>\n",
       "      <td>ASL</td>\n",
       "      <td>child</td>\n",
       "      <td>1</td>\n",
       "      <td>29</td>\n",
       "      <td>shoe</td>\n",
       "      <td>0.767</td>\n",
       "      <td>ASL</td>\n",
       "      <td>0.767</td>\n",
       "      <td>response</td>\n",
       "      <td>1</td>\n",
       "      <td>0.01</td>\n",
       "      <td>cs</td>\n",
       "      <td>0.57</td>\n",
       "      <td>30019</td>\n",
       "      <td>1</td>\n",
       "    </tr>\n",
       "  </tbody>\n",
       "</table>\n",
       "</div>"
      ],
      "text/plain": [
       "    Sub.Num  Tr.Num stimuli age_code  correct  Months clean_target_img     RT  \\\n",
       "77    30047      15     ASL    child        1      35            birdy  0.733   \n",
       "78    30010      13     ASL    child        1      44            teddy  0.767   \n",
       "82    30019      18     ASL    child        1      29             shoe  0.767   \n",
       "84    30019      24     ASL    child        1      29              car  0.767   \n",
       "85    30019      26     ASL    child        1      29             shoe  0.767   \n",
       "\n",
       "   condition     rt     guess  guess_num  ucl_bound ewma_param  param_value  \\\n",
       "77       ASL  0.733  response          1       0.01         cs         0.57   \n",
       "78       ASL  0.767  response          1       0.01         cs         0.57   \n",
       "82       ASL  0.767  response          1       0.01         cs         0.57   \n",
       "84       ASL  0.767  response          1       0.01         cs         0.57   \n",
       "85       ASL  0.767  response          1       0.01         cs         0.57   \n",
       "\n",
       "    subj_idx  response  \n",
       "77     30047         1  \n",
       "78     30010         1  \n",
       "82     30019         1  \n",
       "84     30019         1  \n",
       "85     30019         1  "
      ]
     },
     "execution_count": 5,
     "metadata": {},
     "output_type": "execute_result"
    }
   ],
   "source": [
    "data_kids = hddm.utils.flip_errors(data_kids)\n",
    "data_kids.head(5)"
   ]
  },
  {
   "cell_type": "code",
   "execution_count": 7,
   "metadata": {},
   "outputs": [
    {
     "data": {
      "text/html": [
       "<div>\n",
       "<style scoped>\n",
       "    .dataframe tbody tr th:only-of-type {\n",
       "        vertical-align: middle;\n",
       "    }\n",
       "\n",
       "    .dataframe tbody tr th {\n",
       "        vertical-align: top;\n",
       "    }\n",
       "\n",
       "    .dataframe thead th {\n",
       "        text-align: right;\n",
       "    }\n",
       "</style>\n",
       "<table border=\"1\" class=\"dataframe\">\n",
       "  <thead>\n",
       "    <tr style=\"text-align: right;\">\n",
       "      <th></th>\n",
       "      <th>Sub.Num</th>\n",
       "      <th>Tr.Num</th>\n",
       "      <th>stimuli</th>\n",
       "      <th>age_code</th>\n",
       "      <th>correct</th>\n",
       "      <th>Months</th>\n",
       "      <th>clean_target_img</th>\n",
       "      <th>RT</th>\n",
       "      <th>condition</th>\n",
       "      <th>rt</th>\n",
       "      <th>guess</th>\n",
       "      <th>guess_num</th>\n",
       "      <th>ucl_bound</th>\n",
       "      <th>ewma_param</th>\n",
       "      <th>param_value</th>\n",
       "      <th>subj_idx</th>\n",
       "      <th>response</th>\n",
       "    </tr>\n",
       "  </thead>\n",
       "  <tbody>\n",
       "  </tbody>\n",
       "</table>\n",
       "</div>"
      ],
      "text/plain": [
       "Empty DataFrame\n",
       "Columns: [Sub.Num, Tr.Num, stimuli, age_code, correct, Months, clean_target_img, RT, condition, rt, guess, guess_num, ucl_bound, ewma_param, param_value, subj_idx, response]\n",
       "Index: []"
      ]
     },
     "execution_count": 7,
     "metadata": {},
     "output_type": "execute_result"
    }
   ],
   "source": [
    "data_adults = hddm.utils.flip_errors(data_adults)\n",
    "data_adults.head(5)"
   ]
  },
  {
   "cell_type": "markdown",
   "metadata": {},
   "source": [
    "## Fit model with variable drift and boundry separation\n",
    "\n",
    "Here we fit the ddm for each participant, but now we allow the drift rate and the boundary separation to vary across the four conditions. We also consider the possibility that 5% of the data could be generated by a different process (i.e., outliers). From the HDDM documentation:\n",
    "\n",
    "\"What we can do instead is fit a mixture model which assumes that outliers come from a uniform distribution. (Note, outliers do not have to be very fast or very slow, and the above example is just an obvious illustration. Some proportion of the trials can be assumed to simply come from a different process for which we make no assumptions about its generation, and hence use a uniform distribution. This allows the model to find the best DDM parameters that capture the majority of trials). Here, we specify that we expect roughly 5% outliers in our data.\""
   ]
  },
  {
   "cell_type": "code",
   "execution_count": 10,
   "metadata": {},
   "outputs": [
    {
     "name": "stderr",
     "output_type": "stream",
     "text": [
      "/Users/kmacdonald/miniconda3/envs/hddm_fit/lib/python3.5/site-packages/scipy/optimize/optimize.py:1927: RuntimeWarning: invalid value encountered in double_scalars\n",
      "  tmp2 = (x - v) * (fx - fw)\n",
      "/Users/kmacdonald/miniconda3/envs/hddm_fit/lib/python3.5/site-packages/scipy/optimize/optimize.py:1932: RuntimeWarning: invalid value encountered in absolute\n",
      "  tmp2 = numpy.abs(tmp2)\n",
      "/Users/kmacdonald/miniconda3/envs/hddm_fit/lib/python3.5/site-packages/scipy/optimize/optimize.py:1928: RuntimeWarning: invalid value encountered in double_scalars\n",
      "  p = (x - v) * tmp2 - (x - w) * tmp1\n",
      "/Users/kmacdonald/miniconda3/envs/hddm_fit/lib/python3.5/site-packages/pymc/Node.py:403: VisibleDeprecationWarning: using a non-integer number instead of an integer will result in an error in the future\n",
      "  self.__name__ = input['__name__']\n"
     ]
    },
    {
     "name": "stdout",
     "output_type": "stream",
     "text": [
      " [-----------------100%-----------------] 1001 of 1000 complete in 95.0 sec"
     ]
    },
    {
     "name": "stderr",
     "output_type": "stream",
     "text": [
      "/Users/kmacdonald/miniconda3/envs/hddm_fit/lib/python3.5/site-packages/numpy/core/fromnumeric.py:224: VisibleDeprecationWarning: using a non-integer number instead of an integer will result in an error in the future\n",
      "  return reshape(newshape, order=order)\n"
     ]
    },
    {
     "data": {
      "text/plain": [
       "<pymc.MCMC.MCMC at 0x1a0ee97f60>"
      ]
     },
     "execution_count": 10,
     "metadata": {},
     "output_type": "execute_result"
    }
   ],
   "source": [
    "m_stim = hddm.HDDM(data_kids, depends_on={'v': 'stimuli', 'a': 'stimuli'})\n",
    "m_stim.find_starting_values()\n",
    "m_stim.sample(10000, burn=100)"
   ]
  },
  {
   "cell_type": "code",
   "execution_count": 11,
   "metadata": {},
   "outputs": [
    {
     "data": {
      "text/plain": [
       "Text(0.5,1,'Posterior of drift-rate group means')"
      ]
     },
     "execution_count": 11,
     "metadata": {},
     "output_type": "execute_result"
    },
    {
     "data": {
      "image/png": "[encoded data removed]",
      "text/plain": [
       "<matplotlib.figure.Figure at 0x1a0fbc0b70>"
      ]
     },
     "metadata": {},
     "output_type": "display_data"
    }
   ],
   "source": [
    "drift_ASL, drift_Face = m_stim.nodes_db.node[['v(ASL)', 'v(Face)']]\n",
    "hddm.analyze.plot_posterior_nodes([drift_ASL, drift_Face])\n",
    "plt.xlabel('drift-rate')\n",
    "plt.ylabel('Posterior probability')\n",
    "plt.title('Posterior of drift-rate group means')"
   ]
  },
  {
   "cell_type": "code",
   "execution_count": 12,
   "metadata": {},
   "outputs": [
    {
     "data": {
      "text/plain": [
       "Text(0.5,1,'Posterior distribution of boundary separation')"
      ]
     },
     "execution_count": 12,
     "metadata": {},
     "output_type": "execute_result"
    },
    {
     "data": {
      "image/png": "[encoded data removed]",
      "text/plain": [
       "<matplotlib.figure.Figure at 0x1a0fbf5f98>"
      ]
     },
     "metadata": {},
     "output_type": "display_data"
    }
   ],
   "source": [
    "boundary_ASL, boundary_Face = m_stim.nodes_db.node[['a(ASL)', 'a(Face)']]\n",
    "hddm.analyze.plot_posterior_nodes([boundary_ASL, boundary_Face])\n",
    "plt.xlabel('boundary separation')\n",
    "plt.ylabel('Posterior probability')\n",
    "plt.title('Posterior distribution of boundary separation')"
   ]
  },
  {
   "cell_type": "code",
   "execution_count": 113,
   "metadata": {},
   "outputs": [
    {
     "data": {
      "text/html": [
       "<div>\n",
       "<style scoped>\n",
       "    .dataframe tbody tr th:only-of-type {\n",
       "        vertical-align: middle;\n",
       "    }\n",
       "\n",
       "    .dataframe tbody tr th {\n",
       "        vertical-align: top;\n",
       "    }\n",
       "\n",
       "    .dataframe thead th {\n",
       "        text-align: right;\n",
       "    }\n",
       "</style>\n",
       "<table border=\"1\" class=\"dataframe\">\n",
       "  <thead>\n",
       "    <tr style=\"text-align: right;\">\n",
       "      <th></th>\n",
       "      <th>a(ASL)</th>\n",
       "      <th>a(Face)</th>\n",
       "      <th>v(ASL)</th>\n",
       "      <th>v(Face)</th>\n",
       "      <th>experiment</th>\n",
       "      <th>age_code</th>\n",
       "    </tr>\n",
       "  </thead>\n",
       "  <tbody>\n",
       "    <tr>\n",
       "      <th>0</th>\n",
       "      <td>1.802530</td>\n",
       "      <td>1.300729</td>\n",
       "      <td>0.588560</td>\n",
       "      <td>0.595025</td>\n",
       "      <td>trio</td>\n",
       "      <td>children</td>\n",
       "    </tr>\n",
       "    <tr>\n",
       "      <th>1</th>\n",
       "      <td>1.841077</td>\n",
       "      <td>1.269235</td>\n",
       "      <td>0.620032</td>\n",
       "      <td>0.813783</td>\n",
       "      <td>trio</td>\n",
       "      <td>children</td>\n",
       "    </tr>\n",
       "    <tr>\n",
       "      <th>2</th>\n",
       "      <td>1.798861</td>\n",
       "      <td>1.469107</td>\n",
       "      <td>0.625308</td>\n",
       "      <td>0.708359</td>\n",
       "      <td>trio</td>\n",
       "      <td>children</td>\n",
       "    </tr>\n",
       "    <tr>\n",
       "      <th>3</th>\n",
       "      <td>1.800096</td>\n",
       "      <td>1.260873</td>\n",
       "      <td>0.676346</td>\n",
       "      <td>0.793566</td>\n",
       "      <td>trio</td>\n",
       "      <td>children</td>\n",
       "    </tr>\n",
       "    <tr>\n",
       "      <th>4</th>\n",
       "      <td>1.791964</td>\n",
       "      <td>1.347059</td>\n",
       "      <td>0.660535</td>\n",
       "      <td>0.863777</td>\n",
       "      <td>trio</td>\n",
       "      <td>children</td>\n",
       "    </tr>\n",
       "  </tbody>\n",
       "</table>\n",
       "</div>"
      ],
      "text/plain": [
       "     a(ASL)   a(Face)    v(ASL)   v(Face) experiment  age_code\n",
       "0  1.802530  1.300729  0.588560  0.595025       trio  children\n",
       "1  1.841077  1.269235  0.620032  0.813783       trio  children\n",
       "2  1.798861  1.469107  0.625308  0.708359       trio  children\n",
       "3  1.800096  1.260873  0.676346  0.793566       trio  children\n",
       "4  1.791964  1.347059  0.660535  0.863777       trio  children"
      ]
     },
     "execution_count": 113,
     "metadata": {},
     "output_type": "execute_result"
    }
   ],
   "source": [
    "trio_df = model_to_df(m_stim, param_list= ['a(ASL)', 'a(Face)', 'v(ASL)', 'v(Face)'])\n",
    "trio_df['experiment'] = \"trio\"\n",
    "trio_df['age_code'] = \"children\"\n",
    "trio_df.head()"
   ]
  },
  {
   "cell_type": "code",
   "execution_count": 23,
   "metadata": {},
   "outputs": [
    {
     "data": {
      "text/html": [
       "<div>\n",
       "<style scoped>\n",
       "    .dataframe tbody tr th:only-of-type {\n",
       "        vertical-align: middle;\n",
       "    }\n",
       "\n",
       "    .dataframe tbody tr th {\n",
       "        vertical-align: top;\n",
       "    }\n",
       "\n",
       "    .dataframe thead th {\n",
       "        text-align: right;\n",
       "    }\n",
       "</style>\n",
       "<table border=\"1\" class=\"dataframe\">\n",
       "  <thead>\n",
       "    <tr style=\"text-align: right;\">\n",
       "      <th></th>\n",
       "      <th>mean</th>\n",
       "      <th>std</th>\n",
       "      <th>2.5q</th>\n",
       "      <th>25q</th>\n",
       "      <th>50q</th>\n",
       "      <th>75q</th>\n",
       "      <th>97.5q</th>\n",
       "      <th>mc err</th>\n",
       "    </tr>\n",
       "  </thead>\n",
       "  <tbody>\n",
       "    <tr>\n",
       "      <th>a(Face)</th>\n",
       "      <td>1.34028</td>\n",
       "      <td>0.0700568</td>\n",
       "      <td>1.21216</td>\n",
       "      <td>1.29098</td>\n",
       "      <td>1.34112</td>\n",
       "      <td>1.3851</td>\n",
       "      <td>1.48319</td>\n",
       "      <td>0.00363068</td>\n",
       "    </tr>\n",
       "    <tr>\n",
       "      <th>v(ASL)</th>\n",
       "      <td>0.635186</td>\n",
       "      <td>0.0928153</td>\n",
       "      <td>0.448807</td>\n",
       "      <td>0.575985</td>\n",
       "      <td>0.637368</td>\n",
       "      <td>0.698443</td>\n",
       "      <td>0.81321</td>\n",
       "      <td>0.00368107</td>\n",
       "    </tr>\n",
       "    <tr>\n",
       "      <th>v(Face)</th>\n",
       "      <td>0.557646</td>\n",
       "      <td>0.121556</td>\n",
       "      <td>0.317361</td>\n",
       "      <td>0.476326</td>\n",
       "      <td>0.556808</td>\n",
       "      <td>0.634223</td>\n",
       "      <td>0.802152</td>\n",
       "      <td>0.00613476</td>\n",
       "    </tr>\n",
       "  </tbody>\n",
       "</table>\n",
       "</div>"
      ],
      "text/plain": [
       "             mean        std      2.5q       25q       50q       75q  \\\n",
       "a(Face)   1.34028  0.0700568   1.21216   1.29098   1.34112    1.3851   \n",
       "v(ASL)   0.635186  0.0928153  0.448807  0.575985  0.637368  0.698443   \n",
       "v(Face)  0.557646   0.121556  0.317361  0.476326  0.556808  0.634223   \n",
       "\n",
       "            97.5q      mc err  \n",
       "a(Face)   1.48319  0.00363068  \n",
       "v(ASL)    0.81321  0.00368107  \n",
       "v(Face)  0.802152  0.00613476  "
      ]
     },
     "execution_count": 23,
     "metadata": {},
     "output_type": "execute_result"
    }
   ],
   "source": [
    "# take a look at participant-level parameter estimates\n",
    "#stats = m_stim.gen_stats()\n",
    "\n",
    "stats[stats.index.isin(['a(Face)', 'v(Face)', 'v(ASL)'])]"
   ]
  },
  {
   "cell_type": "code",
   "execution_count": 123,
   "metadata": {},
   "outputs": [],
   "source": [
    "# save to csv\n",
    "trio_df.to_csv(\"../../../data/3_final_merged_data/hddm_output/hddm_posterior_samples_trio.csv\", sep='\\t')"
   ]
  },
  {
   "cell_type": "markdown",
   "metadata": {},
   "source": [
    "## Fit ASL adult data"
   ]
  },
  {
   "cell_type": "code",
   "execution_count": 131,
   "metadata": {},
   "outputs": [
    {
     "name": "stderr",
     "output_type": "stream",
     "text": [
      "/Users/kmacdonald/miniconda3/envs/hddm_fit/lib/python3.5/site-packages/scipy/optimize/optimize.py:1927: RuntimeWarning: invalid value encountered in double_scalars\n",
      "  tmp2 = (x - v) * (fx - fw)\n",
      "/Users/kmacdonald/miniconda3/envs/hddm_fit/lib/python3.5/site-packages/scipy/optimize/optimize.py:1932: RuntimeWarning: invalid value encountered in absolute\n",
      "  tmp2 = numpy.abs(tmp2)\n",
      "/Users/kmacdonald/miniconda3/envs/hddm_fit/lib/python3.5/site-packages/scipy/optimize/optimize.py:1928: RuntimeWarning: invalid value encountered in double_scalars\n",
      "  p = (x - v) * tmp2 - (x - w) * tmp1\n",
      "/Users/kmacdonald/miniconda3/envs/hddm_fit/lib/python3.5/site-packages/pymc/Node.py:403: VisibleDeprecationWarning: using a non-integer number instead of an integer will result in an error in the future\n",
      "  self.__name__ = input['__name__']\n"
     ]
    },
    {
     "name": "stdout",
     "output_type": "stream",
     "text": [
      " [-----------------100%-----------------] 10000 of 10000 complete in 471.7 sec"
     ]
    },
    {
     "name": "stderr",
     "output_type": "stream",
     "text": [
      "/Users/kmacdonald/miniconda3/envs/hddm_fit/lib/python3.5/site-packages/numpy/core/fromnumeric.py:224: VisibleDeprecationWarning: using a non-integer number instead of an integer will result in an error in the future\n",
      "  return reshape(newshape, order=order)\n"
     ]
    },
    {
     "data": {
      "text/plain": [
       "<pymc.MCMC.MCMC at 0x1a20b4ff28>"
      ]
     },
     "execution_count": 131,
     "metadata": {},
     "output_type": "execute_result"
    }
   ],
   "source": [
    "m_trio_adults = hddm.HDDM(data_adults, depends_on={'v': 'stimuli', 'a': 'stimuli'})\n",
    "m_trio_adults.find_starting_values()\n",
    "m_trio_adults.sample(10000, burn=100)"
   ]
  },
  {
   "cell_type": "code",
   "execution_count": 132,
   "metadata": {},
   "outputs": [
    {
     "data": {
      "text/plain": [
       "Text(0.5,1,'Posterior distribution of boundary separation')"
      ]
     },
     "execution_count": 132,
     "metadata": {},
     "output_type": "execute_result"
    },
    {
     "data": {
      "image/png": "[encoded data removed]",
      "text/plain": [
       "<matplotlib.figure.Figure at 0x1a20be6ac8>"
      ]
     },
     "metadata": {},
     "output_type": "display_data"
    }
   ],
   "source": [
    "boundary_ASL_adults, drift_ASL_adults = m_stim.nodes_db.node[['a(ASL)', 'v(ASL)']]\n",
    "hddm.analyze.plot_posterior_nodes([boundary_ASL_adults])\n",
    "plt.xlabel('boundary separation')\n",
    "plt.ylabel('Posterior probability')\n",
    "plt.title('Posterior distribution of boundary separation')"
   ]
  },
  {
   "cell_type": "code",
   "execution_count": 133,
   "metadata": {},
   "outputs": [
    {
     "data": {
      "text/html": [
       "<div>\n",
       "<style scoped>\n",
       "    .dataframe tbody tr th:only-of-type {\n",
       "        vertical-align: middle;\n",
       "    }\n",
       "\n",
       "    .dataframe tbody tr th {\n",
       "        vertical-align: top;\n",
       "    }\n",
       "\n",
       "    .dataframe thead th {\n",
       "        text-align: right;\n",
       "    }\n",
       "</style>\n",
       "<table border=\"1\" class=\"dataframe\">\n",
       "  <thead>\n",
       "    <tr style=\"text-align: right;\">\n",
       "      <th></th>\n",
       "      <th>a(ASL)</th>\n",
       "      <th>v(ASL)</th>\n",
       "      <th>experiment</th>\n",
       "      <th>age_code</th>\n",
       "    </tr>\n",
       "  </thead>\n",
       "  <tbody>\n",
       "    <tr>\n",
       "      <th>0</th>\n",
       "      <td>1.802530</td>\n",
       "      <td>0.588560</td>\n",
       "      <td>trio</td>\n",
       "      <td>adults</td>\n",
       "    </tr>\n",
       "    <tr>\n",
       "      <th>1</th>\n",
       "      <td>1.841077</td>\n",
       "      <td>0.620032</td>\n",
       "      <td>trio</td>\n",
       "      <td>adults</td>\n",
       "    </tr>\n",
       "    <tr>\n",
       "      <th>2</th>\n",
       "      <td>1.798861</td>\n",
       "      <td>0.625308</td>\n",
       "      <td>trio</td>\n",
       "      <td>adults</td>\n",
       "    </tr>\n",
       "    <tr>\n",
       "      <th>3</th>\n",
       "      <td>1.800096</td>\n",
       "      <td>0.676346</td>\n",
       "      <td>trio</td>\n",
       "      <td>adults</td>\n",
       "    </tr>\n",
       "    <tr>\n",
       "      <th>4</th>\n",
       "      <td>1.791964</td>\n",
       "      <td>0.660535</td>\n",
       "      <td>trio</td>\n",
       "      <td>adults</td>\n",
       "    </tr>\n",
       "  </tbody>\n",
       "</table>\n",
       "</div>"
      ],
      "text/plain": [
       "     a(ASL)    v(ASL) experiment age_code\n",
       "0  1.802530  0.588560       trio   adults\n",
       "1  1.841077  0.620032       trio   adults\n",
       "2  1.798861  0.625308       trio   adults\n",
       "3  1.800096  0.676346       trio   adults\n",
       "4  1.791964  0.660535       trio   adults"
      ]
     },
     "execution_count": 133,
     "metadata": {},
     "output_type": "execute_result"
    }
   ],
   "source": [
    "trio_df_adults = model_to_df(m_stim, param_list= ['a(ASL)', 'v(ASL)'])\n",
    "trio_df_adults['experiment'] = \"trio\"\n",
    "trio_df_adults['age_code'] = \"adults\"\n",
    "trio_df_adults.head()"
   ]
  },
  {
   "cell_type": "code",
   "execution_count": 134,
   "metadata": {},
   "outputs": [],
   "source": [
    "trio_df_adults.to_csv(\"../../../data/3_final_merged_data/hddm_output/hddm_posterior_samples_trio_adults.csv\", sep='\\t')"
   ]
  },
  {
   "cell_type": "markdown",
   "metadata": {},
   "source": [
    "# Fit HDDM to kid gaze experiment\n",
    "\n",
    "Next, we fit the same HDDM for the kid data from an experiment where we manipulated the presence of gaze after the noun cue."
   ]
  },
  {
   "cell_type": "code",
   "execution_count": 19,
   "metadata": {},
   "outputs": [],
   "source": [
    "# Loading and arranging data for analysis\n",
    "data_kid_gaze = hddm.load_csv(\"../../../data/3_final_merged_data/ewma_output/speed_acc_kids_gaze_ewma_results.csv\")\n",
    "data_kid_gaze = data_kid_gaze.dropna(subset = ['rt'])\n",
    "data_kid_gaze['subj_idx'] = data_kid_gaze['subid']\n",
    "data_kid_gaze['response'] = data_kid_gaze['correct']"
   ]
  },
  {
   "cell_type": "code",
   "execution_count": 20,
   "metadata": {},
   "outputs": [
    {
     "data": {
      "text/html": [
       "<div>\n",
       "<style scoped>\n",
       "    .dataframe tbody tr th:only-of-type {\n",
       "        vertical-align: middle;\n",
       "    }\n",
       "\n",
       "    .dataframe tbody tr th {\n",
       "        vertical-align: top;\n",
       "    }\n",
       "\n",
       "    .dataframe thead th {\n",
       "        text-align: right;\n",
       "    }\n",
       "</style>\n",
       "<table border=\"1\" class=\"dataframe\">\n",
       "  <thead>\n",
       "    <tr style=\"text-align: right;\">\n",
       "      <th></th>\n",
       "      <th>subid</th>\n",
       "      <th>tr.num</th>\n",
       "      <th>gaze_condition</th>\n",
       "      <th>correct</th>\n",
       "      <th>age</th>\n",
       "      <th>age_group</th>\n",
       "      <th>RT</th>\n",
       "      <th>condition</th>\n",
       "      <th>rt</th>\n",
       "      <th>guess</th>\n",
       "      <th>guess_num</th>\n",
       "      <th>ucl_bound</th>\n",
       "      <th>ewma_param</th>\n",
       "      <th>param_value</th>\n",
       "      <th>subj_idx</th>\n",
       "      <th>response</th>\n",
       "    </tr>\n",
       "  </thead>\n",
       "  <tbody>\n",
       "    <tr>\n",
       "      <th>212</th>\n",
       "      <td>25</td>\n",
       "      <td>7</td>\n",
       "      <td>gaze</td>\n",
       "      <td>1</td>\n",
       "      <td>1929.0</td>\n",
       "      <td>5</td>\n",
       "      <td>0.442</td>\n",
       "      <td>gaze</td>\n",
       "      <td>0.44</td>\n",
       "      <td>response</td>\n",
       "      <td>1</td>\n",
       "      <td>0.01</td>\n",
       "      <td>cs</td>\n",
       "      <td>0.58</td>\n",
       "      <td>25</td>\n",
       "      <td>1</td>\n",
       "    </tr>\n",
       "    <tr>\n",
       "      <th>213</th>\n",
       "      <td>26</td>\n",
       "      <td>7</td>\n",
       "      <td>gaze</td>\n",
       "      <td>1</td>\n",
       "      <td>1789.0</td>\n",
       "      <td>4</td>\n",
       "      <td>0.442</td>\n",
       "      <td>gaze</td>\n",
       "      <td>0.44</td>\n",
       "      <td>response</td>\n",
       "      <td>1</td>\n",
       "      <td>0.01</td>\n",
       "      <td>cs</td>\n",
       "      <td>0.58</td>\n",
       "      <td>26</td>\n",
       "      <td>1</td>\n",
       "    </tr>\n",
       "    <tr>\n",
       "      <th>214</th>\n",
       "      <td>34</td>\n",
       "      <td>25</td>\n",
       "      <td>gaze</td>\n",
       "      <td>1</td>\n",
       "      <td>2016.0</td>\n",
       "      <td>5</td>\n",
       "      <td>0.442</td>\n",
       "      <td>gaze</td>\n",
       "      <td>0.44</td>\n",
       "      <td>response</td>\n",
       "      <td>1</td>\n",
       "      <td>0.02</td>\n",
       "      <td>cs</td>\n",
       "      <td>0.59</td>\n",
       "      <td>34</td>\n",
       "      <td>1</td>\n",
       "    </tr>\n",
       "    <tr>\n",
       "      <th>215</th>\n",
       "      <td>45</td>\n",
       "      <td>13</td>\n",
       "      <td>gaze</td>\n",
       "      <td>1</td>\n",
       "      <td>NaN</td>\n",
       "      <td>3</td>\n",
       "      <td>0.442</td>\n",
       "      <td>gaze</td>\n",
       "      <td>0.44</td>\n",
       "      <td>response</td>\n",
       "      <td>1</td>\n",
       "      <td>0.02</td>\n",
       "      <td>cs</td>\n",
       "      <td>0.59</td>\n",
       "      <td>45</td>\n",
       "      <td>1</td>\n",
       "    </tr>\n",
       "    <tr>\n",
       "      <th>216</th>\n",
       "      <td>15</td>\n",
       "      <td>8</td>\n",
       "      <td>gaze</td>\n",
       "      <td>1</td>\n",
       "      <td>1077.0</td>\n",
       "      <td>2</td>\n",
       "      <td>0.467</td>\n",
       "      <td>gaze</td>\n",
       "      <td>0.47</td>\n",
       "      <td>response</td>\n",
       "      <td>1</td>\n",
       "      <td>0.02</td>\n",
       "      <td>cs</td>\n",
       "      <td>0.59</td>\n",
       "      <td>15</td>\n",
       "      <td>1</td>\n",
       "    </tr>\n",
       "  </tbody>\n",
       "</table>\n",
       "</div>"
      ],
      "text/plain": [
       "     subid  tr.num gaze_condition  correct     age  age_group     RT  \\\n",
       "212     25       7           gaze        1  1929.0          5  0.442   \n",
       "213     26       7           gaze        1  1789.0          4  0.442   \n",
       "214     34      25           gaze        1  2016.0          5  0.442   \n",
       "215     45      13           gaze        1     NaN          3  0.442   \n",
       "216     15       8           gaze        1  1077.0          2  0.467   \n",
       "\n",
       "    condition    rt     guess  guess_num  ucl_bound ewma_param  param_value  \\\n",
       "212      gaze  0.44  response          1       0.01         cs         0.58   \n",
       "213      gaze  0.44  response          1       0.01         cs         0.58   \n",
       "214      gaze  0.44  response          1       0.02         cs         0.59   \n",
       "215      gaze  0.44  response          1       0.02         cs         0.59   \n",
       "216      gaze  0.47  response          1       0.02         cs         0.59   \n",
       "\n",
       "     subj_idx  response  \n",
       "212        25         1  \n",
       "213        26         1  \n",
       "214        34         1  \n",
       "215        45         1  \n",
       "216        15         1  "
      ]
     },
     "execution_count": 20,
     "metadata": {},
     "output_type": "execute_result"
    }
   ],
   "source": [
    "# filter to remove guesses as flagged by the EWMA model\n",
    "data_kid_gaze = data_kid_gaze[(data_kid_gaze.guess == \"response\")]\n",
    "data_kid_gaze = hddm.utils.flip_errors(data_kid_gaze)\n",
    "data_kid_gaze.head(5)"
   ]
  },
  {
   "cell_type": "code",
   "execution_count": 21,
   "metadata": {},
   "outputs": [
    {
     "name": "stderr",
     "output_type": "stream",
     "text": [
      "/Users/kmacdonald/miniconda3/envs/hddm_fit/lib/python3.5/site-packages/scipy/optimize/optimize.py:1927: RuntimeWarning: invalid value encountered in double_scalars\n",
      "  tmp2 = (x - v) * (fx - fw)\n",
      "/Users/kmacdonald/miniconda3/envs/hddm_fit/lib/python3.5/site-packages/scipy/optimize/optimize.py:1932: RuntimeWarning: invalid value encountered in absolute\n",
      "  tmp2 = numpy.abs(tmp2)\n",
      "/Users/kmacdonald/miniconda3/envs/hddm_fit/lib/python3.5/site-packages/scipy/optimize/optimize.py:1928: RuntimeWarning: invalid value encountered in double_scalars\n",
      "  p = (x - v) * tmp2 - (x - w) * tmp1\n",
      "/Users/kmacdonald/miniconda3/envs/hddm_fit/lib/python3.5/site-packages/pymc/Node.py:403: VisibleDeprecationWarning: using a non-integer number instead of an integer will result in an error in the future\n",
      "  self.__name__ = input['__name__']\n"
     ]
    },
    {
     "name": "stdout",
     "output_type": "stream",
     "text": [
      " [-----------------100%-----------------] 10000 of 10000 complete in 976.3 sec"
     ]
    },
    {
     "name": "stderr",
     "output_type": "stream",
     "text": [
      "/Users/kmacdonald/miniconda3/envs/hddm_fit/lib/python3.5/site-packages/numpy/core/fromnumeric.py:224: VisibleDeprecationWarning: using a non-integer number instead of an integer will result in an error in the future\n",
      "  return reshape(newshape, order=order)\n"
     ]
    },
    {
     "data": {
      "text/plain": [
       "<pymc.MCMC.MCMC at 0x1a1d53d1d0>"
      ]
     },
     "execution_count": 21,
     "metadata": {},
     "output_type": "execute_result"
    }
   ],
   "source": [
    "# fit model for kid gaze data\n",
    "m_kid_gaze = hddm.HDDM(data_kid_gaze, depends_on={'v': 'condition', 'a': 'condition', 't': 'condition'})\n",
    "m_kid_gaze.find_starting_values()\n",
    "m_kid_gaze.sample(10000, burn=100)"
   ]
  },
  {
   "cell_type": "code",
   "execution_count": 60,
   "metadata": {},
   "outputs": [
    {
     "data": {
      "text/plain": [
       "Text(0.5,1,'Posterior of drift-rate group means (Gaze kids)')"
      ]
     },
     "execution_count": 60,
     "metadata": {},
     "output_type": "execute_result"
    },
    {
     "data": {
      "image/png": "[encoded data removed]",
      "text/plain": [
       "<matplotlib.figure.Figure at 0x1a1def2a90>"
      ]
     },
     "metadata": {},
     "output_type": "display_data"
    }
   ],
   "source": [
    "# plot drift\n",
    "drift_gaze_kid, drift_straight_ahead_kid = m_kid_gaze.nodes_db.node[['v(gaze)', 'v(straight_ahead)']]\n",
    "hddm.analyze.plot_posterior_nodes([drift_gaze_kid, drift_straight_ahead_kid])\n",
    "plt.xlabel('drift-rate')\n",
    "plt.ylabel('Posterior probability')\n",
    "plt.title('Posterior of drift-rate group means (Gaze kids)')"
   ]
  },
  {
   "cell_type": "code",
   "execution_count": 23,
   "metadata": {},
   "outputs": [
    {
     "data": {
      "text/plain": [
       "Text(0.5,1,'Posterior distribution of boundary separation (Gaze kids)')"
      ]
     },
     "execution_count": 23,
     "metadata": {},
     "output_type": "execute_result"
    },
    {
     "data": {
      "image/png": "[encoded data removed]",
      "text/plain": [
       "<matplotlib.figure.Figure at 0x1a1d551d68>"
      ]
     },
     "metadata": {},
     "output_type": "display_data"
    }
   ],
   "source": [
    "# plot boundary\n",
    "boundary_gaze_kid, boundary_straight_ahead_kid = m_kid_gaze.nodes_db.node[['a(gaze)', 'a(straight_ahead)']]\n",
    "hddm.analyze.plot_posterior_nodes([boundary_gaze_kid, boundary_straight_ahead_kid])\n",
    "plt.xlabel('boundary separation')\n",
    "plt.ylabel('Posterior probability')\n",
    "plt.title('Posterior distribution of boundary separation (Gaze kids)')"
   ]
  },
  {
   "cell_type": "code",
   "execution_count": 115,
   "metadata": {},
   "outputs": [
    {
     "data": {
      "text/html": [
       "<div>\n",
       "<style scoped>\n",
       "    .dataframe tbody tr th:only-of-type {\n",
       "        vertical-align: middle;\n",
       "    }\n",
       "\n",
       "    .dataframe tbody tr th {\n",
       "        vertical-align: top;\n",
       "    }\n",
       "\n",
       "    .dataframe thead th {\n",
       "        text-align: right;\n",
       "    }\n",
       "</style>\n",
       "<table border=\"1\" class=\"dataframe\">\n",
       "  <thead>\n",
       "    <tr style=\"text-align: right;\">\n",
       "      <th></th>\n",
       "      <th>a(gaze)</th>\n",
       "      <th>a(straight_ahead)</th>\n",
       "      <th>v(gaze)</th>\n",
       "      <th>v(straight_ahead)</th>\n",
       "      <th>experiment</th>\n",
       "      <th>age_code</th>\n",
       "    </tr>\n",
       "  </thead>\n",
       "  <tbody>\n",
       "    <tr>\n",
       "      <th>0</th>\n",
       "      <td>1.018602</td>\n",
       "      <td>0.979535</td>\n",
       "      <td>0.791597</td>\n",
       "      <td>0.700873</td>\n",
       "      <td>gaze</td>\n",
       "      <td>children</td>\n",
       "    </tr>\n",
       "    <tr>\n",
       "      <th>1</th>\n",
       "      <td>1.015484</td>\n",
       "      <td>0.951262</td>\n",
       "      <td>0.989198</td>\n",
       "      <td>0.737575</td>\n",
       "      <td>gaze</td>\n",
       "      <td>children</td>\n",
       "    </tr>\n",
       "    <tr>\n",
       "      <th>2</th>\n",
       "      <td>1.007720</td>\n",
       "      <td>0.978018</td>\n",
       "      <td>1.055092</td>\n",
       "      <td>0.500328</td>\n",
       "      <td>gaze</td>\n",
       "      <td>children</td>\n",
       "    </tr>\n",
       "    <tr>\n",
       "      <th>3</th>\n",
       "      <td>1.031080</td>\n",
       "      <td>0.987834</td>\n",
       "      <td>0.937786</td>\n",
       "      <td>0.523080</td>\n",
       "      <td>gaze</td>\n",
       "      <td>children</td>\n",
       "    </tr>\n",
       "    <tr>\n",
       "      <th>4</th>\n",
       "      <td>1.066255</td>\n",
       "      <td>0.977084</td>\n",
       "      <td>0.947968</td>\n",
       "      <td>0.560994</td>\n",
       "      <td>gaze</td>\n",
       "      <td>children</td>\n",
       "    </tr>\n",
       "  </tbody>\n",
       "</table>\n",
       "</div>"
      ],
      "text/plain": [
       "    a(gaze)  a(straight_ahead)   v(gaze)  v(straight_ahead) experiment  \\\n",
       "0  1.018602           0.979535  0.791597           0.700873       gaze   \n",
       "1  1.015484           0.951262  0.989198           0.737575       gaze   \n",
       "2  1.007720           0.978018  1.055092           0.500328       gaze   \n",
       "3  1.031080           0.987834  0.937786           0.523080       gaze   \n",
       "4  1.066255           0.977084  0.947968           0.560994       gaze   \n",
       "\n",
       "   age_code  \n",
       "0  children  \n",
       "1  children  \n",
       "2  children  \n",
       "3  children  \n",
       "4  children  "
      ]
     },
     "execution_count": 115,
     "metadata": {},
     "output_type": "execute_result"
    }
   ],
   "source": [
    "gaze_kids_df = model_to_df(m_kid_gaze, param_list= ['a(gaze)', 'a(straight_ahead)', 'v(gaze)', 'v(straight_ahead)'])\n",
    "gaze_kids_df['experiment'] = \"gaze\"\n",
    "gaze_kids_df['age_code'] = \"children\"\n",
    "gaze_kids_df.head()"
   ]
  },
  {
   "cell_type": "code",
   "execution_count": 124,
   "metadata": {},
   "outputs": [],
   "source": [
    "gaze_kids_df.to_csv(\"../../../data/3_final_merged_data/hddm_output/hddm_posterior_samples_gaze_kids.csv\", sep='\\t')"
   ]
  },
  {
   "cell_type": "markdown",
   "metadata": {},
   "source": [
    "# Fit HDDM to kid noise data\n",
    "\n",
    "Next, we fit the same HDDM for the kid data from two experiments manipulating the presence of gaze after the noun cue."
   ]
  },
  {
   "cell_type": "code",
   "execution_count": 24,
   "metadata": {},
   "outputs": [
    {
     "data": {
      "text/html": [
       "<div>\n",
       "<style scoped>\n",
       "    .dataframe tbody tr th:only-of-type {\n",
       "        vertical-align: middle;\n",
       "    }\n",
       "\n",
       "    .dataframe tbody tr th {\n",
       "        vertical-align: top;\n",
       "    }\n",
       "\n",
       "    .dataframe thead th {\n",
       "        text-align: right;\n",
       "    }\n",
       "</style>\n",
       "<table border=\"1\" class=\"dataframe\">\n",
       "  <thead>\n",
       "    <tr style=\"text-align: right;\">\n",
       "      <th></th>\n",
       "      <th>subid</th>\n",
       "      <th>tr.num</th>\n",
       "      <th>noise_condition</th>\n",
       "      <th>correct</th>\n",
       "      <th>age</th>\n",
       "      <th>age_group</th>\n",
       "      <th>RT</th>\n",
       "      <th>condition</th>\n",
       "      <th>rt</th>\n",
       "      <th>guess</th>\n",
       "      <th>guess_num</th>\n",
       "      <th>ucl_bound</th>\n",
       "      <th>ewma_param</th>\n",
       "      <th>param_value</th>\n",
       "      <th>subj_idx</th>\n",
       "      <th>response</th>\n",
       "    </tr>\n",
       "  </thead>\n",
       "  <tbody>\n",
       "    <tr>\n",
       "      <th>228</th>\n",
       "      <td>11</td>\n",
       "      <td>2</td>\n",
       "      <td>clear</td>\n",
       "      <td>1</td>\n",
       "      <td>1695.0</td>\n",
       "      <td>4</td>\n",
       "      <td>0.475</td>\n",
       "      <td>clear</td>\n",
       "      <td>0.48</td>\n",
       "      <td>response</td>\n",
       "      <td>1</td>\n",
       "      <td>0.01</td>\n",
       "      <td>cs</td>\n",
       "      <td>0.58</td>\n",
       "      <td>11</td>\n",
       "      <td>1</td>\n",
       "    </tr>\n",
       "    <tr>\n",
       "      <th>231</th>\n",
       "      <td>20</td>\n",
       "      <td>5</td>\n",
       "      <td>clear</td>\n",
       "      <td>1</td>\n",
       "      <td>2088.0</td>\n",
       "      <td>5</td>\n",
       "      <td>0.476</td>\n",
       "      <td>clear</td>\n",
       "      <td>0.48</td>\n",
       "      <td>response</td>\n",
       "      <td>1</td>\n",
       "      <td>0.01</td>\n",
       "      <td>cs</td>\n",
       "      <td>0.58</td>\n",
       "      <td>20</td>\n",
       "      <td>1</td>\n",
       "    </tr>\n",
       "    <tr>\n",
       "      <th>233</th>\n",
       "      <td>33</td>\n",
       "      <td>7</td>\n",
       "      <td>clear</td>\n",
       "      <td>1</td>\n",
       "      <td>NaN</td>\n",
       "      <td>5</td>\n",
       "      <td>0.500</td>\n",
       "      <td>clear</td>\n",
       "      <td>0.50</td>\n",
       "      <td>response</td>\n",
       "      <td>1</td>\n",
       "      <td>0.01</td>\n",
       "      <td>cs</td>\n",
       "      <td>0.58</td>\n",
       "      <td>33</td>\n",
       "      <td>1</td>\n",
       "    </tr>\n",
       "    <tr>\n",
       "      <th>234</th>\n",
       "      <td>46</td>\n",
       "      <td>11</td>\n",
       "      <td>clear</td>\n",
       "      <td>1</td>\n",
       "      <td>NaN</td>\n",
       "      <td>5</td>\n",
       "      <td>0.500</td>\n",
       "      <td>clear</td>\n",
       "      <td>0.50</td>\n",
       "      <td>response</td>\n",
       "      <td>1</td>\n",
       "      <td>0.01</td>\n",
       "      <td>cs</td>\n",
       "      <td>0.58</td>\n",
       "      <td>46</td>\n",
       "      <td>1</td>\n",
       "    </tr>\n",
       "    <tr>\n",
       "      <th>235</th>\n",
       "      <td>1</td>\n",
       "      <td>27</td>\n",
       "      <td>clear</td>\n",
       "      <td>0</td>\n",
       "      <td>1770.0</td>\n",
       "      <td>4</td>\n",
       "      <td>0.501</td>\n",
       "      <td>clear</td>\n",
       "      <td>-0.50</td>\n",
       "      <td>response</td>\n",
       "      <td>1</td>\n",
       "      <td>0.01</td>\n",
       "      <td>cs</td>\n",
       "      <td>0.58</td>\n",
       "      <td>1</td>\n",
       "      <td>0</td>\n",
       "    </tr>\n",
       "  </tbody>\n",
       "</table>\n",
       "</div>"
      ],
      "text/plain": [
       "     subid  tr.num noise_condition  correct     age  age_group     RT  \\\n",
       "228     11       2           clear        1  1695.0          4  0.475   \n",
       "231     20       5           clear        1  2088.0          5  0.476   \n",
       "233     33       7           clear        1     NaN          5  0.500   \n",
       "234     46      11           clear        1     NaN          5  0.500   \n",
       "235      1      27           clear        0  1770.0          4  0.501   \n",
       "\n",
       "    condition    rt     guess  guess_num  ucl_bound ewma_param  param_value  \\\n",
       "228     clear  0.48  response          1       0.01         cs         0.58   \n",
       "231     clear  0.48  response          1       0.01         cs         0.58   \n",
       "233     clear  0.50  response          1       0.01         cs         0.58   \n",
       "234     clear  0.50  response          1       0.01         cs         0.58   \n",
       "235     clear -0.50  response          1       0.01         cs         0.58   \n",
       "\n",
       "     subj_idx  response  \n",
       "228        11         1  \n",
       "231        20         1  \n",
       "233        33         1  \n",
       "234        46         1  \n",
       "235         1         0  "
      ]
     },
     "execution_count": 24,
     "metadata": {},
     "output_type": "execute_result"
    }
   ],
   "source": [
    "# read data\n",
    "data_kid_noise = hddm.load_csv(\"../../../data/3_final_merged_data/ewma_output/speed_acc_kids_noise_ewma_results.csv\")\n",
    "data_kid_noise = data_kid_noise.dropna(subset = ['rt'])\n",
    "data_kid_noise['subj_idx'] = data_kid_noise['subid']\n",
    "data_kid_noise['response'] = data_kid_noise['correct']\n",
    "\n",
    "# filter to remove guesses as flagged by the EWMA model\n",
    "data_kid_noise = data_kid_noise[(data_kid_noise.guess == \"response\")]\n",
    "data_kid_noise = hddm.utils.flip_errors(data_kid_noise)\n",
    "data_kid_noise.head(5)"
   ]
  },
  {
   "cell_type": "code",
   "execution_count": 25,
   "metadata": {},
   "outputs": [
    {
     "name": "stderr",
     "output_type": "stream",
     "text": [
      "/Users/kmacdonald/miniconda3/envs/hddm_fit/lib/python3.5/site-packages/scipy/optimize/optimize.py:1927: RuntimeWarning: invalid value encountered in double_scalars\n",
      "  tmp2 = (x - v) * (fx - fw)\n",
      "/Users/kmacdonald/miniconda3/envs/hddm_fit/lib/python3.5/site-packages/scipy/optimize/optimize.py:1932: RuntimeWarning: invalid value encountered in absolute\n",
      "  tmp2 = numpy.abs(tmp2)\n",
      "/Users/kmacdonald/miniconda3/envs/hddm_fit/lib/python3.5/site-packages/scipy/optimize/optimize.py:1928: RuntimeWarning: invalid value encountered in double_scalars\n",
      "  p = (x - v) * tmp2 - (x - w) * tmp1\n",
      "/Users/kmacdonald/miniconda3/envs/hddm_fit/lib/python3.5/site-packages/pymc/Node.py:403: VisibleDeprecationWarning: using a non-integer number instead of an integer will result in an error in the future\n",
      "  self.__name__ = input['__name__']\n"
     ]
    },
    {
     "name": "stdout",
     "output_type": "stream",
     "text": [
      " [-----------------100%-----------------] 10000 of 10000 complete in 1170.1 sec"
     ]
    },
    {
     "name": "stderr",
     "output_type": "stream",
     "text": [
      "/Users/kmacdonald/miniconda3/envs/hddm_fit/lib/python3.5/site-packages/numpy/core/fromnumeric.py:224: VisibleDeprecationWarning: using a non-integer number instead of an integer will result in an error in the future\n",
      "  return reshape(newshape, order=order)\n"
     ]
    },
    {
     "data": {
      "text/plain": [
       "<pymc.MCMC.MCMC at 0x1a1d9c1ba8>"
      ]
     },
     "execution_count": 25,
     "metadata": {},
     "output_type": "execute_result"
    }
   ],
   "source": [
    "# fit model for kid noise data\n",
    "m_kid_noise = hddm.HDDM(data_kid_noise, depends_on={'v': 'condition', 'a': 'condition', 't': 'condition'})\n",
    "m_kid_noise.find_starting_values()\n",
    "m_kid_noise.sample(10000, burn=100)"
   ]
  },
  {
   "cell_type": "code",
   "execution_count": 26,
   "metadata": {},
   "outputs": [
    {
     "data": {
      "text/plain": [
       "Text(0.5,1,'Posterior of drift-rate group means (Noise kids)')"
      ]
     },
     "execution_count": 26,
     "metadata": {},
     "output_type": "execute_result"
    },
    {
     "data": {
      "image/png": "[encoded data removed]",
      "text/plain": [
       "<matplotlib.figure.Figure at 0x1a1d99f470>"
      ]
     },
     "metadata": {},
     "output_type": "display_data"
    }
   ],
   "source": [
    "# plot drift\n",
    "drift_noise_kid, drift_clear_kid = m_kid_noise.nodes_db.node[['v(noise)', 'v(clear)']]\n",
    "hddm.analyze.plot_posterior_nodes([drift_noise_kid, drift_clear_kid])\n",
    "plt.xlabel('drift-rate')\n",
    "plt.ylabel('Posterior probability')\n",
    "plt.title('Posterior of drift-rate group means (Noise kids)')"
   ]
  },
  {
   "cell_type": "code",
   "execution_count": 116,
   "metadata": {},
   "outputs": [
    {
     "data": {
      "text/plain": [
       "Text(0.5,1,'Posterior distribution of boundary separation (Noise kids)')"
      ]
     },
     "execution_count": 116,
     "metadata": {},
     "output_type": "execute_result"
    },
    {
     "data": {
      "image/png": "[encoded data removed]",
      "text/plain": [
       "<matplotlib.figure.Figure at 0x1a1f887198>"
      ]
     },
     "metadata": {},
     "output_type": "display_data"
    }
   ],
   "source": [
    "# plot boundary\n",
    "boundary_noise_kid, boundary_clear_kid = m_kid_noise.nodes_db.node[['a(noise)', 'a(clear)']]\n",
    "hddm.analyze.plot_posterior_nodes([boundary_noise_kid, boundary_clear_kid])\n",
    "plt.xlabel('boundary separation')\n",
    "plt.ylabel('Posterior probability')\n",
    "plt.title('Posterior distribution of boundary separation (Noise kids)')"
   ]
  },
  {
   "cell_type": "code",
   "execution_count": 117,
   "metadata": {},
   "outputs": [
    {
     "data": {
      "text/html": [
       "<div>\n",
       "<style scoped>\n",
       "    .dataframe tbody tr th:only-of-type {\n",
       "        vertical-align: middle;\n",
       "    }\n",
       "\n",
       "    .dataframe tbody tr th {\n",
       "        vertical-align: top;\n",
       "    }\n",
       "\n",
       "    .dataframe thead th {\n",
       "        text-align: right;\n",
       "    }\n",
       "</style>\n",
       "<table border=\"1\" class=\"dataframe\">\n",
       "  <thead>\n",
       "    <tr style=\"text-align: right;\">\n",
       "      <th></th>\n",
       "      <th>a(clear)</th>\n",
       "      <th>a(noise)</th>\n",
       "      <th>v(clear)</th>\n",
       "      <th>v(noise)</th>\n",
       "      <th>experiment</th>\n",
       "      <th>age_code</th>\n",
       "    </tr>\n",
       "  </thead>\n",
       "  <tbody>\n",
       "    <tr>\n",
       "      <th>0</th>\n",
       "      <td>1.012610</td>\n",
       "      <td>1.221943</td>\n",
       "      <td>0.474190</td>\n",
       "      <td>0.346866</td>\n",
       "      <td>noise</td>\n",
       "      <td>children</td>\n",
       "    </tr>\n",
       "    <tr>\n",
       "      <th>1</th>\n",
       "      <td>1.075038</td>\n",
       "      <td>1.244258</td>\n",
       "      <td>0.549644</td>\n",
       "      <td>0.505556</td>\n",
       "      <td>noise</td>\n",
       "      <td>children</td>\n",
       "    </tr>\n",
       "    <tr>\n",
       "      <th>2</th>\n",
       "      <td>1.151165</td>\n",
       "      <td>1.207016</td>\n",
       "      <td>0.636079</td>\n",
       "      <td>0.509921</td>\n",
       "      <td>noise</td>\n",
       "      <td>children</td>\n",
       "    </tr>\n",
       "    <tr>\n",
       "      <th>3</th>\n",
       "      <td>1.024329</td>\n",
       "      <td>1.285914</td>\n",
       "      <td>0.700074</td>\n",
       "      <td>0.571713</td>\n",
       "      <td>noise</td>\n",
       "      <td>children</td>\n",
       "    </tr>\n",
       "    <tr>\n",
       "      <th>4</th>\n",
       "      <td>0.972530</td>\n",
       "      <td>1.331325</td>\n",
       "      <td>0.653216</td>\n",
       "      <td>0.684532</td>\n",
       "      <td>noise</td>\n",
       "      <td>children</td>\n",
       "    </tr>\n",
       "  </tbody>\n",
       "</table>\n",
       "</div>"
      ],
      "text/plain": [
       "   a(clear)  a(noise)  v(clear)  v(noise) experiment  age_code\n",
       "0  1.012610  1.221943  0.474190  0.346866      noise  children\n",
       "1  1.075038  1.244258  0.549644  0.505556      noise  children\n",
       "2  1.151165  1.207016  0.636079  0.509921      noise  children\n",
       "3  1.024329  1.285914  0.700074  0.571713      noise  children\n",
       "4  0.972530  1.331325  0.653216  0.684532      noise  children"
      ]
     },
     "execution_count": 117,
     "metadata": {},
     "output_type": "execute_result"
    }
   ],
   "source": [
    "noise_kids_df = model_to_df(m_kid_noise, param_list= ['a(noise)', 'a(clear)', 'v(noise)', 'v(clear)'])\n",
    "noise_kids_df['experiment'] = \"noise\"\n",
    "noise_kids_df['age_code'] = \"children\"\n",
    "noise_kids_df.head()"
   ]
  },
  {
   "cell_type": "code",
   "execution_count": 125,
   "metadata": {},
   "outputs": [],
   "source": [
    "noise_kids_df.to_csv(\"../../../data/3_final_merged_data/hddm_output/hddm_posterior_samples_noise_kids.csv\", sep='\\t')"
   ]
  },
  {
   "cell_type": "markdown",
   "metadata": {},
   "source": [
    "# Fit HDDM to adult text data\n",
    "\n",
    "Next, we fit the same HDDM for the adult data with the four different center stimulus types: face, bullseye, text, and text-no-audio"
   ]
  },
  {
   "cell_type": "code",
   "execution_count": 28,
   "metadata": {},
   "outputs": [
    {
     "data": {
      "text/html": [
       "<div>\n",
       "<style scoped>\n",
       "    .dataframe tbody tr th:only-of-type {\n",
       "        vertical-align: middle;\n",
       "    }\n",
       "\n",
       "    .dataframe tbody tr th {\n",
       "        vertical-align: top;\n",
       "    }\n",
       "\n",
       "    .dataframe thead th {\n",
       "        text-align: right;\n",
       "    }\n",
       "</style>\n",
       "<table border=\"1\" class=\"dataframe\">\n",
       "  <thead>\n",
       "    <tr style=\"text-align: right;\">\n",
       "      <th></th>\n",
       "      <th>subid</th>\n",
       "      <th>tr.num</th>\n",
       "      <th>condition</th>\n",
       "      <th>correct</th>\n",
       "      <th>RT</th>\n",
       "      <th>rt</th>\n",
       "      <th>guess</th>\n",
       "      <th>guess_num</th>\n",
       "      <th>ucl_bound</th>\n",
       "      <th>ewma_param</th>\n",
       "      <th>param_value</th>\n",
       "      <th>subj_idx</th>\n",
       "      <th>response</th>\n",
       "    </tr>\n",
       "  </thead>\n",
       "  <tbody>\n",
       "    <tr>\n",
       "      <th>194</th>\n",
       "      <td>11_02_05</td>\n",
       "      <td>52</td>\n",
       "      <td>bullseye</td>\n",
       "      <td>1</td>\n",
       "      <td>0.497</td>\n",
       "      <td>0.497</td>\n",
       "      <td>response</td>\n",
       "      <td>1</td>\n",
       "      <td>0.01</td>\n",
       "      <td>cs</td>\n",
       "      <td>0.62</td>\n",
       "      <td>11_02_05</td>\n",
       "      <td>1</td>\n",
       "    </tr>\n",
       "    <tr>\n",
       "      <th>195</th>\n",
       "      <td>11_02_07</td>\n",
       "      <td>44</td>\n",
       "      <td>bullseye</td>\n",
       "      <td>1</td>\n",
       "      <td>0.497</td>\n",
       "      <td>0.497</td>\n",
       "      <td>response</td>\n",
       "      <td>1</td>\n",
       "      <td>0.01</td>\n",
       "      <td>cs</td>\n",
       "      <td>0.62</td>\n",
       "      <td>11_02_07</td>\n",
       "      <td>1</td>\n",
       "    </tr>\n",
       "    <tr>\n",
       "      <th>196</th>\n",
       "      <td>11_02_08</td>\n",
       "      <td>27</td>\n",
       "      <td>bullseye</td>\n",
       "      <td>1</td>\n",
       "      <td>0.497</td>\n",
       "      <td>0.497</td>\n",
       "      <td>response</td>\n",
       "      <td>1</td>\n",
       "      <td>0.01</td>\n",
       "      <td>cs</td>\n",
       "      <td>0.62</td>\n",
       "      <td>11_02_08</td>\n",
       "      <td>1</td>\n",
       "    </tr>\n",
       "    <tr>\n",
       "      <th>197</th>\n",
       "      <td>11_02_08</td>\n",
       "      <td>30</td>\n",
       "      <td>bullseye</td>\n",
       "      <td>1</td>\n",
       "      <td>0.497</td>\n",
       "      <td>0.497</td>\n",
       "      <td>response</td>\n",
       "      <td>1</td>\n",
       "      <td>0.02</td>\n",
       "      <td>cs</td>\n",
       "      <td>0.63</td>\n",
       "      <td>11_02_08</td>\n",
       "      <td>1</td>\n",
       "    </tr>\n",
       "    <tr>\n",
       "      <th>198</th>\n",
       "      <td>11_02_08</td>\n",
       "      <td>36</td>\n",
       "      <td>bullseye</td>\n",
       "      <td>1</td>\n",
       "      <td>0.497</td>\n",
       "      <td>0.497</td>\n",
       "      <td>response</td>\n",
       "      <td>1</td>\n",
       "      <td>0.02</td>\n",
       "      <td>cs</td>\n",
       "      <td>0.63</td>\n",
       "      <td>11_02_08</td>\n",
       "      <td>1</td>\n",
       "    </tr>\n",
       "  </tbody>\n",
       "</table>\n",
       "</div>"
      ],
      "text/plain": [
       "        subid  tr.num condition  correct     RT     rt     guess  guess_num  \\\n",
       "194  11_02_05      52  bullseye        1  0.497  0.497  response          1   \n",
       "195  11_02_07      44  bullseye        1  0.497  0.497  response          1   \n",
       "196  11_02_08      27  bullseye        1  0.497  0.497  response          1   \n",
       "197  11_02_08      30  bullseye        1  0.497  0.497  response          1   \n",
       "198  11_02_08      36  bullseye        1  0.497  0.497  response          1   \n",
       "\n",
       "     ucl_bound ewma_param  param_value  subj_idx  response  \n",
       "194       0.01         cs         0.62  11_02_05         1  \n",
       "195       0.01         cs         0.62  11_02_07         1  \n",
       "196       0.01         cs         0.62  11_02_08         1  \n",
       "197       0.02         cs         0.63  11_02_08         1  \n",
       "198       0.02         cs         0.63  11_02_08         1  "
      ]
     },
     "execution_count": 28,
     "metadata": {},
     "output_type": "execute_result"
    }
   ],
   "source": [
    "# read data\n",
    "data_adults = hddm.load_csv(\"../../../data/3_final_merged_data/ewma_output/speed_acc_adult_text_ewma_results.csv\")\n",
    "data_adults = data_adults.dropna(subset = ['RT'])\n",
    "data_adults['subj_idx'] = data_adults['subid']\n",
    "data_adults['rt'] = data_adults['RT']\n",
    "data_adults['response'] = data_adults['correct']\n",
    "\n",
    "# filter to remove guesses as flagged by the EWMA model\n",
    "data_adults = data_adults[(data_adults.guess == \"response\")]\n",
    "data_adults = hddm.utils.flip_errors(data_adults)\n",
    "data_adults.head(5)"
   ]
  },
  {
   "cell_type": "code",
   "execution_count": 29,
   "metadata": {},
   "outputs": [
    {
     "name": "stderr",
     "output_type": "stream",
     "text": [
      "/Users/kmacdonald/miniconda3/envs/hddm_fit/lib/python3.5/site-packages/scipy/optimize/optimize.py:1927: RuntimeWarning: invalid value encountered in double_scalars\n",
      "  tmp2 = (x - v) * (fx - fw)\n",
      "/Users/kmacdonald/miniconda3/envs/hddm_fit/lib/python3.5/site-packages/scipy/optimize/optimize.py:1932: RuntimeWarning: invalid value encountered in absolute\n",
      "  tmp2 = numpy.abs(tmp2)\n",
      "/Users/kmacdonald/miniconda3/envs/hddm_fit/lib/python3.5/site-packages/scipy/optimize/optimize.py:1928: RuntimeWarning: invalid value encountered in double_scalars\n",
      "  p = (x - v) * tmp2 - (x - w) * tmp1\n",
      "/Users/kmacdonald/miniconda3/envs/hddm_fit/lib/python3.5/site-packages/pymc/Node.py:403: VisibleDeprecationWarning: using a non-integer number instead of an integer will result in an error in the future\n",
      "  self.__name__ = input['__name__']\n"
     ]
    },
    {
     "name": "stdout",
     "output_type": "stream",
     "text": [
      " [-----------------100%-----------------] 10000 of 10000 complete in 1360.3 sec"
     ]
    },
    {
     "name": "stderr",
     "output_type": "stream",
     "text": [
      "/Users/kmacdonald/miniconda3/envs/hddm_fit/lib/python3.5/site-packages/numpy/core/fromnumeric.py:224: VisibleDeprecationWarning: using a non-integer number instead of an integer will result in an error in the future\n",
      "  return reshape(newshape, order=order)\n"
     ]
    },
    {
     "data": {
      "text/plain": [
       "<pymc.MCMC.MCMC at 0x1a1e63d4a8>"
      ]
     },
     "execution_count": 29,
     "metadata": {},
     "output_type": "execute_result"
    }
   ],
   "source": [
    "# fit model for adult data\n",
    "m_adults = hddm.HDDM(data_adults, depends_on={'v': 'condition', 'a': 'condition', 't': 'condition'})\n",
    "m_adults.find_starting_values()\n",
    "m_adults.sample(10000, burn=100)"
   ]
  },
  {
   "cell_type": "code",
   "execution_count": 30,
   "metadata": {},
   "outputs": [
    {
     "data": {
      "text/plain": [
       "Text(0.5,1,'Posterior of drift-rate group means (Adult Text)')"
      ]
     },
     "execution_count": 30,
     "metadata": {},
     "output_type": "execute_result"
    },
    {
     "data": {
      "image/png": "[encoded data removed]",
      "text/plain": [
       "<matplotlib.figure.Figure at 0x1a1e27ea58>"
      ]
     },
     "metadata": {},
     "output_type": "display_data"
    }
   ],
   "source": [
    "# plot drift\n",
    "drift_face_adult, drift_bull_adult, drift_text_adult, drift_text_no_audio_adult = m_adults.nodes_db.node[['v(face)', 'v(bullseye)', 'v(text)', 'v(text-no-audio)']]\n",
    "hddm.analyze.plot_posterior_nodes([drift_face_adult, drift_bull_adult, drift_text_adult, drift_text_no_audio_adult])\n",
    "plt.xlabel('drift-rate')\n",
    "plt.ylabel('Posterior probability')\n",
    "plt.title('Posterior of drift-rate group means (Adult Text)')"
   ]
  },
  {
   "cell_type": "code",
   "execution_count": 73,
   "metadata": {},
   "outputs": [
    {
     "data": {
      "text/plain": [
       "Text(0.5,1,'Posterior distribution of boundary separation (Adult Text)')"
      ]
     },
     "execution_count": 73,
     "metadata": {},
     "output_type": "execute_result"
    },
    {
     "data": {
      "image/png": "[encoded data removed]",
      "text/plain": [
       "<matplotlib.figure.Figure at 0x1a1e09ecc0>"
      ]
     },
     "metadata": {},
     "output_type": "display_data"
    }
   ],
   "source": [
    "# plot boundary separation\n",
    "boundary_face_adult, boundary_bull_adult, boundary_text_adult, boundary_text_no_audio_adult = m_adults.nodes_db.node[['a(face)', 'a(bullseye)', 'a(text)', 'a(text-no-audio)']]\n",
    "hddm.analyze.plot_posterior_nodes([boundary_face_adult, boundary_bull_adult, boundary_text_adult, boundary_text_no_audio_adult])\n",
    "plt.xlabel('boundary separation')\n",
    "plt.ylabel('Posterior probability')\n",
    "plt.title('Posterior distribution of boundary separation (Adult Text)')"
   ]
  },
  {
   "cell_type": "code",
   "execution_count": 100,
   "metadata": {},
   "outputs": [],
   "source": [
    "# write variable drift model output to csv\n",
    "drift_face_adult.trace().tofile(\"../../../data/3_final_merged_data/hddm_output/adults/drift_face_adult.csv\", sep=',', format='%10.5f')\n",
    "drift_bull_adult.trace().tofile(\"../../../data/3_final_merged_data/hddm_output/adults/drift_bull_adult.csv\", sep=',', format='%10.5f')\n",
    "drift_text_adult.trace().tofile(\"../../../data/3_final_merged_data/hddm_output/adults/drift_text_adult.csv\", sep=',', format='%10.5f')\n",
    "drift_text_no_audio_adult.trace().tofile(\"../../../data/3_final_merged_data/hddm_output/adults/drift_text_no_audio_adult.csv\", sep=',', format='%10.5f')\n",
    "# write boundary separation\n",
    "boundary_face_adult.trace().tofile(\"../../../data/3_final_merged_data/hddm_output/adults/boundary_face_adult.csv\", sep=',', format='%10.5f')\n",
    "boundary_bull_adult.trace().tofile(\"../../../data/3_final_merged_data/hddm_output/adults/boundary_bull_adult.csv\", sep=',', format='%10.5f')\n",
    "boundary_text_adult.trace().tofile(\"../../../data/3_final_merged_data/hddm_output/adults/boundary_text_adult.csv\", sep=',', format='%10.5f')\n",
    "boundary_text_no_audio_adult.trace().tofile(\"../../../data/3_final_merged_data/hddm_output/adults/boundary_text_no_audio_adult.csv\", sep=',', format='%10.5f')"
   ]
  },
  {
   "cell_type": "code",
   "execution_count": 118,
   "metadata": {},
   "outputs": [
    {
     "data": {
      "text/html": [
       "<div>\n",
       "<style scoped>\n",
       "    .dataframe tbody tr th:only-of-type {\n",
       "        vertical-align: middle;\n",
       "    }\n",
       "\n",
       "    .dataframe tbody tr th {\n",
       "        vertical-align: top;\n",
       "    }\n",
       "\n",
       "    .dataframe thead th {\n",
       "        text-align: right;\n",
       "    }\n",
       "</style>\n",
       "<table border=\"1\" class=\"dataframe\">\n",
       "  <thead>\n",
       "    <tr style=\"text-align: right;\">\n",
       "      <th></th>\n",
       "      <th>a(bullseye)</th>\n",
       "      <th>a(face)</th>\n",
       "      <th>a(text)</th>\n",
       "      <th>a(text-no-audio)</th>\n",
       "      <th>v(bullseye)</th>\n",
       "      <th>v(face)</th>\n",
       "      <th>v(text)</th>\n",
       "      <th>v(text-no-audio)</th>\n",
       "      <th>experiment</th>\n",
       "      <th>age_code</th>\n",
       "    </tr>\n",
       "  </thead>\n",
       "  <tbody>\n",
       "    <tr>\n",
       "      <th>0</th>\n",
       "      <td>1.552297</td>\n",
       "      <td>1.696221</td>\n",
       "      <td>1.365357</td>\n",
       "      <td>1.242022</td>\n",
       "      <td>1.617905</td>\n",
       "      <td>2.506204</td>\n",
       "      <td>1.969812</td>\n",
       "      <td>3.381523</td>\n",
       "      <td>text</td>\n",
       "      <td>adults</td>\n",
       "    </tr>\n",
       "    <tr>\n",
       "      <th>1</th>\n",
       "      <td>1.463038</td>\n",
       "      <td>1.912009</td>\n",
       "      <td>1.560283</td>\n",
       "      <td>1.368864</td>\n",
       "      <td>1.780051</td>\n",
       "      <td>1.756335</td>\n",
       "      <td>1.826894</td>\n",
       "      <td>2.216897</td>\n",
       "      <td>text</td>\n",
       "      <td>adults</td>\n",
       "    </tr>\n",
       "    <tr>\n",
       "      <th>2</th>\n",
       "      <td>1.534934</td>\n",
       "      <td>1.475458</td>\n",
       "      <td>1.138356</td>\n",
       "      <td>1.404412</td>\n",
       "      <td>1.810703</td>\n",
       "      <td>2.077431</td>\n",
       "      <td>2.295097</td>\n",
       "      <td>2.091987</td>\n",
       "      <td>text</td>\n",
       "      <td>adults</td>\n",
       "    </tr>\n",
       "    <tr>\n",
       "      <th>3</th>\n",
       "      <td>1.511685</td>\n",
       "      <td>1.646915</td>\n",
       "      <td>1.484035</td>\n",
       "      <td>1.325148</td>\n",
       "      <td>1.480958</td>\n",
       "      <td>2.989118</td>\n",
       "      <td>2.369812</td>\n",
       "      <td>2.297013</td>\n",
       "      <td>text</td>\n",
       "      <td>adults</td>\n",
       "    </tr>\n",
       "    <tr>\n",
       "      <th>4</th>\n",
       "      <td>1.502648</td>\n",
       "      <td>1.691258</td>\n",
       "      <td>1.519794</td>\n",
       "      <td>1.357831</td>\n",
       "      <td>1.691239</td>\n",
       "      <td>2.006405</td>\n",
       "      <td>2.317510</td>\n",
       "      <td>2.067397</td>\n",
       "      <td>text</td>\n",
       "      <td>adults</td>\n",
       "    </tr>\n",
       "  </tbody>\n",
       "</table>\n",
       "</div>"
      ],
      "text/plain": [
       "   a(bullseye)   a(face)   a(text)  a(text-no-audio)  v(bullseye)   v(face)  \\\n",
       "0     1.552297  1.696221  1.365357          1.242022     1.617905  2.506204   \n",
       "1     1.463038  1.912009  1.560283          1.368864     1.780051  1.756335   \n",
       "2     1.534934  1.475458  1.138356          1.404412     1.810703  2.077431   \n",
       "3     1.511685  1.646915  1.484035          1.325148     1.480958  2.989118   \n",
       "4     1.502648  1.691258  1.519794          1.357831     1.691239  2.006405   \n",
       "\n",
       "    v(text)  v(text-no-audio) experiment age_code  \n",
       "0  1.969812          3.381523       text   adults  \n",
       "1  1.826894          2.216897       text   adults  \n",
       "2  2.295097          2.091987       text   adults  \n",
       "3  2.369812          2.297013       text   adults  \n",
       "4  2.317510          2.067397       text   adults  "
      ]
     },
     "execution_count": 118,
     "metadata": {},
     "output_type": "execute_result"
    }
   ],
   "source": [
    "text_adults_df = model_to_df(m_adults, param_list= ['a(face)', 'a(bullseye)', 'a(text)', 'a(text-no-audio)', 'v(face)', 'v(bullseye)', 'v(text)', 'v(text-no-audio)'])\n",
    "text_adults_df['experiment'] = \"text\"\n",
    "text_adults_df['age_code'] = \"adults\"\n",
    "text_adults_df.head()"
   ]
  },
  {
   "cell_type": "code",
   "execution_count": 121,
   "metadata": {},
   "outputs": [],
   "source": [
    "text_adults_df.to_csv(\"../../../data/3_final_merged_data/hddm_output/hddm_posterior_samples_text_adults.csv\", sep='\\t')"
   ]
  },
  {
   "cell_type": "markdown",
   "metadata": {},
   "source": [
    "# Fit HDDM to adult noise & gaze data\n",
    "\n",
    "Next, we fit the same HDDM for the adult data with the four different conditions: noise_gaze, noise_straight_ahead, clear_gaze, clear_straight_ahead."
   ]
  },
  {
   "cell_type": "code",
   "execution_count": 32,
   "metadata": {},
   "outputs": [
    {
     "data": {
      "text/html": [
       "<div>\n",
       "<style scoped>\n",
       "    .dataframe tbody tr th:only-of-type {\n",
       "        vertical-align: middle;\n",
       "    }\n",
       "\n",
       "    .dataframe tbody tr th {\n",
       "        vertical-align: top;\n",
       "    }\n",
       "\n",
       "    .dataframe thead th {\n",
       "        text-align: right;\n",
       "    }\n",
       "</style>\n",
       "<table border=\"1\" class=\"dataframe\">\n",
       "  <thead>\n",
       "    <tr style=\"text-align: right;\">\n",
       "      <th></th>\n",
       "      <th>subid</th>\n",
       "      <th>tr.num</th>\n",
       "      <th>condition_long</th>\n",
       "      <th>correct</th>\n",
       "      <th>RT</th>\n",
       "      <th>condition</th>\n",
       "      <th>rt</th>\n",
       "      <th>guess</th>\n",
       "      <th>guess_num</th>\n",
       "      <th>ucl_bound</th>\n",
       "      <th>ewma_param</th>\n",
       "      <th>param_value</th>\n",
       "      <th>subj_idx</th>\n",
       "      <th>response</th>\n",
       "    </tr>\n",
       "  </thead>\n",
       "  <tbody>\n",
       "    <tr>\n",
       "      <th>47</th>\n",
       "      <td>13</td>\n",
       "      <td>30</td>\n",
       "      <td>gaze_clear</td>\n",
       "      <td>1</td>\n",
       "      <td>0.310</td>\n",
       "      <td>gaze_clear</td>\n",
       "      <td>0.31</td>\n",
       "      <td>response</td>\n",
       "      <td>1</td>\n",
       "      <td>0.01</td>\n",
       "      <td>cs</td>\n",
       "      <td>0.59</td>\n",
       "      <td>13</td>\n",
       "      <td>1</td>\n",
       "    </tr>\n",
       "    <tr>\n",
       "      <th>48</th>\n",
       "      <td>33</td>\n",
       "      <td>35</td>\n",
       "      <td>gaze_clear</td>\n",
       "      <td>1</td>\n",
       "      <td>0.335</td>\n",
       "      <td>gaze_clear</td>\n",
       "      <td>0.34</td>\n",
       "      <td>response</td>\n",
       "      <td>1</td>\n",
       "      <td>0.01</td>\n",
       "      <td>cs</td>\n",
       "      <td>0.59</td>\n",
       "      <td>33</td>\n",
       "      <td>1</td>\n",
       "    </tr>\n",
       "    <tr>\n",
       "      <th>49</th>\n",
       "      <td>15</td>\n",
       "      <td>26</td>\n",
       "      <td>gaze_clear</td>\n",
       "      <td>1</td>\n",
       "      <td>0.336</td>\n",
       "      <td>gaze_clear</td>\n",
       "      <td>0.34</td>\n",
       "      <td>response</td>\n",
       "      <td>1</td>\n",
       "      <td>0.02</td>\n",
       "      <td>cs</td>\n",
       "      <td>0.60</td>\n",
       "      <td>15</td>\n",
       "      <td>1</td>\n",
       "    </tr>\n",
       "    <tr>\n",
       "      <th>50</th>\n",
       "      <td>20</td>\n",
       "      <td>63</td>\n",
       "      <td>gaze_clear</td>\n",
       "      <td>1</td>\n",
       "      <td>0.336</td>\n",
       "      <td>gaze_clear</td>\n",
       "      <td>0.34</td>\n",
       "      <td>response</td>\n",
       "      <td>1</td>\n",
       "      <td>0.01</td>\n",
       "      <td>cs</td>\n",
       "      <td>0.60</td>\n",
       "      <td>20</td>\n",
       "      <td>1</td>\n",
       "    </tr>\n",
       "    <tr>\n",
       "      <th>51</th>\n",
       "      <td>21</td>\n",
       "      <td>42</td>\n",
       "      <td>gaze_clear</td>\n",
       "      <td>1</td>\n",
       "      <td>0.337</td>\n",
       "      <td>gaze_clear</td>\n",
       "      <td>0.34</td>\n",
       "      <td>response</td>\n",
       "      <td>1</td>\n",
       "      <td>0.02</td>\n",
       "      <td>cs</td>\n",
       "      <td>0.61</td>\n",
       "      <td>21</td>\n",
       "      <td>1</td>\n",
       "    </tr>\n",
       "  </tbody>\n",
       "</table>\n",
       "</div>"
      ],
      "text/plain": [
       "    subid  tr.num condition_long  correct     RT   condition    rt     guess  \\\n",
       "47     13      30     gaze_clear        1  0.310  gaze_clear  0.31  response   \n",
       "48     33      35     gaze_clear        1  0.335  gaze_clear  0.34  response   \n",
       "49     15      26     gaze_clear        1  0.336  gaze_clear  0.34  response   \n",
       "50     20      63     gaze_clear        1  0.336  gaze_clear  0.34  response   \n",
       "51     21      42     gaze_clear        1  0.337  gaze_clear  0.34  response   \n",
       "\n",
       "    guess_num  ucl_bound ewma_param  param_value  subj_idx  response  \n",
       "47          1       0.01         cs         0.59        13         1  \n",
       "48          1       0.01         cs         0.59        33         1  \n",
       "49          1       0.02         cs         0.60        15         1  \n",
       "50          1       0.01         cs         0.60        20         1  \n",
       "51          1       0.02         cs         0.61        21         1  "
      ]
     },
     "execution_count": 32,
     "metadata": {},
     "output_type": "execute_result"
    }
   ],
   "source": [
    "# read data\n",
    "data_adults_ng = hddm.load_csv(\"../../../data/3_final_merged_data/ewma_output/speed_acc_adult_ng_ewma_results.csv\")\n",
    "data_adults_ng = data_adults_ng.dropna(subset = ['RT'])\n",
    "data_adults_ng['subj_idx'] = data_adults_ng['subid']\n",
    "data_adults_ng['response'] = data_adults_ng['correct']\n",
    "\n",
    "# filter to remove guesses as flagged by the EWMA model\n",
    "data_adults_ng = data_adults_ng[(data_adults_ng.guess == \"response\")]\n",
    "data_adults_ng = hddm.utils.flip_errors(data_adults_ng)\n",
    "data_adults_ng.head(5)"
   ]
  },
  {
   "cell_type": "code",
   "execution_count": 33,
   "metadata": {},
   "outputs": [
    {
     "name": "stderr",
     "output_type": "stream",
     "text": [
      "/Users/kmacdonald/miniconda3/envs/hddm_fit/lib/python3.5/site-packages/scipy/optimize/optimize.py:1927: RuntimeWarning: invalid value encountered in double_scalars\n",
      "  tmp2 = (x - v) * (fx - fw)\n",
      "/Users/kmacdonald/miniconda3/envs/hddm_fit/lib/python3.5/site-packages/scipy/optimize/optimize.py:1932: RuntimeWarning: invalid value encountered in absolute\n",
      "  tmp2 = numpy.abs(tmp2)\n",
      "/Users/kmacdonald/miniconda3/envs/hddm_fit/lib/python3.5/site-packages/scipy/optimize/optimize.py:1928: RuntimeWarning: invalid value encountered in double_scalars\n",
      "  p = (x - v) * tmp2 - (x - w) * tmp1\n",
      "/Users/kmacdonald/miniconda3/envs/hddm_fit/lib/python3.5/site-packages/pymc/Node.py:403: VisibleDeprecationWarning: using a non-integer number instead of an integer will result in an error in the future\n",
      "  self.__name__ = input['__name__']\n"
     ]
    },
    {
     "name": "stdout",
     "output_type": "stream",
     "text": [
      " [-----------------100%-----------------] 5001 of 5000 complete in 981.1 sec"
     ]
    },
    {
     "name": "stderr",
     "output_type": "stream",
     "text": [
      "/Users/kmacdonald/miniconda3/envs/hddm_fit/lib/python3.5/site-packages/numpy/core/fromnumeric.py:224: VisibleDeprecationWarning: using a non-integer number instead of an integer will result in an error in the future\n",
      "  return reshape(newshape, order=order)\n"
     ]
    },
    {
     "data": {
      "text/plain": [
       "<pymc.MCMC.MCMC at 0x1a1dbc4390>"
      ]
     },
     "execution_count": 33,
     "metadata": {},
     "output_type": "execute_result"
    }
   ],
   "source": [
    "# fit model for adult data\n",
    "m_adults_ng = hddm.HDDM(data_adults_ng, depends_on={'v': 'condition', 'a': 'condition', 't': 'condition'})\n",
    "m_adults_ng.find_starting_values()\n",
    "m_adults_ng.sample(5000, burn=100)"
   ]
  },
  {
   "cell_type": "code",
   "execution_count": 34,
   "metadata": {},
   "outputs": [
    {
     "data": {
      "text/plain": [
       "Text(0.5,1,'Posterior of drift-rate group means (Adult Noise/Gaze)')"
      ]
     },
     "execution_count": 34,
     "metadata": {},
     "output_type": "execute_result"
    },
    {
     "data": {
      "image/png": "[encoded data removed]",
      "text/plain": [
       "<matplotlib.figure.Figure at 0x1a1de072e8>"
      ]
     },
     "metadata": {},
     "output_type": "display_data"
    }
   ],
   "source": [
    "# plot drift\n",
    "drift_gaze_noise_adult, drift_straight_ahead_clear_adult, drift_gaze_clear_adult, drift_straight_ahead_noise_adult = m_adults_ng.nodes_db.node[['v(gaze_noise)', 'v(straight_ahead_clear)', 'v(gaze_clear)', 'v(straight_ahead_noise)']]\n",
    "hddm.analyze.plot_posterior_nodes([drift_gaze_noise_adult, drift_straight_ahead_clear_adult, drift_gaze_clear_adult, drift_straight_ahead_noise_adult])\n",
    "plt.xlabel('drift-rate')\n",
    "plt.ylabel('Posterior probability')\n",
    "plt.title('Posterior of drift-rate group means (Adult Noise/Gaze)')"
   ]
  },
  {
   "cell_type": "code",
   "execution_count": 35,
   "metadata": {},
   "outputs": [
    {
     "data": {
      "text/plain": [
       "Text(0.5,1,'Posterior of boundary-separation group means (Adult Noise/Gaze)')"
      ]
     },
     "execution_count": 35,
     "metadata": {},
     "output_type": "execute_result"
    },
    {
     "data": {
      "image/png": "[encoded data removed]",
      "text/plain": [
       "<matplotlib.figure.Figure at 0x1a1de0b518>"
      ]
     },
     "metadata": {},
     "output_type": "display_data"
    }
   ],
   "source": [
    "# plot boundary\n",
    "boundary_gaze_noise_adult, boundary_straight_ahead_clear_adult, boundary_gaze_clear_adult, boundary_straight_ahead_noise_adult = m_adults_ng.nodes_db.node[['a(gaze_noise)', 'a(straight_ahead_clear)', 'a(gaze_clear)', 'a(straight_ahead_noise)']]\n",
    "hddm.analyze.plot_posterior_nodes([boundary_gaze_noise_adult, boundary_straight_ahead_clear_adult, boundary_gaze_clear_adult, boundary_straight_ahead_noise_adult])\n",
    "plt.xlabel('boundary-separation')\n",
    "plt.ylabel('Posterior probability')\n",
    "plt.title('Posterior of boundary-separation group means (Adult Noise/Gaze)')"
   ]
  },
  {
   "cell_type": "code",
   "execution_count": 120,
   "metadata": {
    "collapsed": true
   },
   "outputs": [
    {
     "data": {
      "text/html": [
       "<div>\n",
       "<style scoped>\n",
       "    .dataframe tbody tr th:only-of-type {\n",
       "        vertical-align: middle;\n",
       "    }\n",
       "\n",
       "    .dataframe tbody tr th {\n",
       "        vertical-align: top;\n",
       "    }\n",
       "\n",
       "    .dataframe thead th {\n",
       "        text-align: right;\n",
       "    }\n",
       "</style>\n",
       "<table border=\"1\" class=\"dataframe\">\n",
       "  <thead>\n",
       "    <tr style=\"text-align: right;\">\n",
       "      <th></th>\n",
       "      <th>a(gaze_clear)</th>\n",
       "      <th>a(gaze_noise)</th>\n",
       "      <th>a(straight_ahead_clear)</th>\n",
       "      <th>a(straight_ahead_noise)</th>\n",
       "      <th>v(gaze_clear)</th>\n",
       "      <th>v(gaze_noise)</th>\n",
       "      <th>v(straight_ahead_clear)</th>\n",
       "      <th>v(straight_ahead_noise)</th>\n",
       "      <th>experiment</th>\n",
       "      <th>age_code</th>\n",
       "    </tr>\n",
       "  </thead>\n",
       "  <tbody>\n",
       "    <tr>\n",
       "      <th>0</th>\n",
       "      <td>2.000323</td>\n",
       "      <td>1.853591</td>\n",
       "      <td>1.636482</td>\n",
       "      <td>1.797776</td>\n",
       "      <td>1.492613</td>\n",
       "      <td>1.505116</td>\n",
       "      <td>2.024233</td>\n",
       "      <td>2.322410</td>\n",
       "      <td>noise_gaze</td>\n",
       "      <td>adults</td>\n",
       "    </tr>\n",
       "    <tr>\n",
       "      <th>1</th>\n",
       "      <td>2.020977</td>\n",
       "      <td>1.766205</td>\n",
       "      <td>1.758791</td>\n",
       "      <td>1.772415</td>\n",
       "      <td>1.557483</td>\n",
       "      <td>1.989070</td>\n",
       "      <td>1.768785</td>\n",
       "      <td>1.801224</td>\n",
       "      <td>noise_gaze</td>\n",
       "      <td>adults</td>\n",
       "    </tr>\n",
       "    <tr>\n",
       "      <th>2</th>\n",
       "      <td>1.877914</td>\n",
       "      <td>1.863204</td>\n",
       "      <td>1.903595</td>\n",
       "      <td>1.723491</td>\n",
       "      <td>1.738990</td>\n",
       "      <td>1.978440</td>\n",
       "      <td>1.696260</td>\n",
       "      <td>2.199066</td>\n",
       "      <td>noise_gaze</td>\n",
       "      <td>adults</td>\n",
       "    </tr>\n",
       "    <tr>\n",
       "      <th>3</th>\n",
       "      <td>1.867407</td>\n",
       "      <td>1.854289</td>\n",
       "      <td>1.879253</td>\n",
       "      <td>1.638507</td>\n",
       "      <td>1.579109</td>\n",
       "      <td>1.908307</td>\n",
       "      <td>1.504385</td>\n",
       "      <td>2.227166</td>\n",
       "      <td>noise_gaze</td>\n",
       "      <td>adults</td>\n",
       "    </tr>\n",
       "    <tr>\n",
       "      <th>4</th>\n",
       "      <td>1.909095</td>\n",
       "      <td>1.900873</td>\n",
       "      <td>1.803851</td>\n",
       "      <td>1.606636</td>\n",
       "      <td>1.509249</td>\n",
       "      <td>2.002647</td>\n",
       "      <td>1.988289</td>\n",
       "      <td>1.894925</td>\n",
       "      <td>noise_gaze</td>\n",
       "      <td>adults</td>\n",
       "    </tr>\n",
       "  </tbody>\n",
       "</table>\n",
       "</div>"
      ],
      "text/plain": [
       "   a(gaze_clear)  a(gaze_noise)  a(straight_ahead_clear)  \\\n",
       "0       2.000323       1.853591                 1.636482   \n",
       "1       2.020977       1.766205                 1.758791   \n",
       "2       1.877914       1.863204                 1.903595   \n",
       "3       1.867407       1.854289                 1.879253   \n",
       "4       1.909095       1.900873                 1.803851   \n",
       "\n",
       "   a(straight_ahead_noise)  v(gaze_clear)  v(gaze_noise)  \\\n",
       "0                 1.797776       1.492613       1.505116   \n",
       "1                 1.772415       1.557483       1.989070   \n",
       "2                 1.723491       1.738990       1.978440   \n",
       "3                 1.638507       1.579109       1.908307   \n",
       "4                 1.606636       1.509249       2.002647   \n",
       "\n",
       "   v(straight_ahead_clear)  v(straight_ahead_noise)  experiment age_code  \n",
       "0                 2.024233                 2.322410  noise_gaze   adults  \n",
       "1                 1.768785                 1.801224  noise_gaze   adults  \n",
       "2                 1.696260                 2.199066  noise_gaze   adults  \n",
       "3                 1.504385                 2.227166  noise_gaze   adults  \n",
       "4                 1.988289                 1.894925  noise_gaze   adults  "
      ]
     },
     "execution_count": 120,
     "metadata": {},
     "output_type": "execute_result"
    }
   ],
   "source": [
    "ng_adults_df = model_to_df(m_adults_ng, param_list= ['a(gaze_noise)', 'a(straight_ahead_clear)', 'a(gaze_clear)', 'a(straight_ahead_noise)', 'v(gaze_noise)', 'v(straight_ahead_clear)', 'v(gaze_clear)', 'v(straight_ahead_noise)'])\n",
    "ng_adults_df['experiment'] = \"noise_gaze\"\n",
    "ng_adults_df['age_code'] = \"adults\"\n",
    "ng_adults_df.head()"
   ]
  },
  {
   "cell_type": "code",
   "execution_count": 122,
   "metadata": {},
   "outputs": [],
   "source": [
    "ng_adults_df.to_csv(\"../../../data/3_final_merged_data/hddm_output/hddm_posterior_samples_ng_adults.csv\", sep='\\t')"
   ]
  }
 ],
 "metadata": {
  "anaconda-cloud": {},
  "kernelspec": {
   "display_name": "Python (hddm)",
   "language": "python",
   "name": "hddm_fit"
  },
  "language_info": {
   "codemirror_mode": {
    "name": "ipython",
    "version": 3
   },
   "file_extension": ".py",
   "mimetype": "text/x-python",
   "name": "python",
   "nbconvert_exporter": "python",
   "pygments_lexer": "ipython3",
   "version": "3.5.4"
  }
 },
 "nbformat": 4,
 "nbformat_minor": 2
}
